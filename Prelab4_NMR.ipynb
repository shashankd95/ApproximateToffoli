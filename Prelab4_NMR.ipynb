{
  "nbformat": 4,
  "nbformat_minor": 0,
  "metadata": {
    "colab": {
      "provenance": [],
      "toc_visible": true
    },
    "kernelspec": {
      "name": "python3",
      "display_name": "Python 3"
    },
    "language_info": {
      "name": "python"
    }
  },
  "cells": [
    {
      "cell_type": "code",
      "execution_count": null,
      "metadata": {
        "colab": {
          "base_uri": "https://localhost:8080/"
        },
        "id": "Ma792JNBFqqp",
        "outputId": "c688376b-e30e-4ee5-a8e6-5fa3f34c46a8"
      },
      "outputs": [
        {
          "output_type": "stream",
          "name": "stdout",
          "text": [
            "Collecting qutip\n",
            "  Downloading qutip-4.7.5-cp310-cp310-manylinux_2_17_x86_64.manylinux2014_x86_64.whl (16.3 MB)\n",
            "\u001b[2K     \u001b[90m━━━━━━━━━━━━━━━━━━━━━━━━━━━━━━━━━━━━━━━━\u001b[0m \u001b[32m16.3/16.3 MB\u001b[0m \u001b[31m18.8 MB/s\u001b[0m eta \u001b[36m0:00:00\u001b[0m\n",
            "\u001b[?25hRequirement already satisfied: numpy>=1.16.6 in /usr/local/lib/python3.10/dist-packages (from qutip) (1.25.2)\n",
            "Requirement already satisfied: scipy>=1.0 in /usr/local/lib/python3.10/dist-packages (from qutip) (1.11.4)\n",
            "Requirement already satisfied: packaging in /usr/local/lib/python3.10/dist-packages (from qutip) (23.2)\n",
            "Installing collected packages: qutip\n",
            "Successfully installed qutip-4.7.5\n"
          ]
        }
      ],
      "source": [
        "pip install qutip"
      ]
    },
    {
      "cell_type": "markdown",
      "source": [
        "## Initializing"
      ],
      "metadata": {
        "id": "Zdti9VHWZBkz"
      }
    },
    {
      "cell_type": "code",
      "source": [
        "from qutip import *\n",
        "import numpy as np\n",
        "import matplotlib.pyplot as plt"
      ],
      "metadata": {
        "id": "kK0LkkpyFuyP",
        "colab": {
          "base_uri": "https://localhost:8080/"
        },
        "outputId": "fb833c69-9f52-42e7-cb8d-85ad79c21e49"
      },
      "execution_count": null,
      "outputs": [
        {
          "output_type": "stream",
          "name": "stderr",
          "text": [
            "/usr/local/lib/python3.10/dist-packages/qutip/__init__.py:66: UserWarning: The new version of Cython, (>= 3.0.0) is not supported.\n",
            "  warnings.warn(\n"
          ]
        }
      ]
    },
    {
      "cell_type": "code",
      "source": [
        "#Spin Operators\n",
        "Spin_X = 1/2 * sigmax()\n",
        "Spin_Y = 1/2 * sigmay()\n",
        "Spin_Z = 1/2 * sigmaz()\n",
        "Spin_E = qeye(2)\n",
        "\n",
        "#4x4 Tensors\n",
        "ID = tensor(Spin_E, Spin_E)\n",
        "\n",
        "IX = tensor(Spin_X, Spin_E)\n",
        "IY = tensor(Spin_Y, Spin_E)\n",
        "IZ = tensor(Spin_Z, Spin_E)\n",
        "\n",
        "SX = tensor(Spin_E, Spin_X)\n",
        "SY = tensor(Spin_E, Spin_Y)\n",
        "SZ = tensor(Spin_E, Spin_Z)\n",
        "\n",
        "#J-coupling evolution\n",
        "IZSZ = tensor(Spin_Z, Spin_Z)\n",
        "\n",
        "#Thermal/Initial State of the system\n",
        "rho = Qobj([[5,0,0,0],\n",
        "            [0,3,0,0],\n",
        "            [0,0,-3,0],\n",
        "            [0,0,0,-5]], dims = [[2,2], [2,2]])\n",
        "\n",
        "np.set_printoptions(precision = 4)"
      ],
      "metadata": {
        "id": "paXzFPWuFwlL"
      },
      "execution_count": null,
      "outputs": []
    },
    {
      "cell_type": "code",
      "source": [
        "def R(tensor, angle):\n",
        "  '''\n",
        "  Exponentiates the tensor to a rotation pulse of an angle\n",
        "  '''\n",
        "  rotation = (tensor*(-1j*angle)).expm()\n",
        "  return rotation\n",
        "\n",
        "def SpectraPlotter(rho, gate):\n",
        "  '''\n",
        "  Plots the expected spectrum from the elements of the transformed\n",
        "  density matrix\n",
        "  '''\n",
        "  final = gate * rho * gate.dag()\n",
        "  final = np.matrix(final)\n",
        "\n",
        "  p2 = final[1,1]-final[3,3] #b-d\n",
        "  p1 = final[0,0]-final[2,2] #a-c\n",
        "  c2 = final[2,2]-final[3,3] #c-d\n",
        "  c1 = final[0,0]-final[1,1] #a-b\n",
        "\n",
        "  x = ['1H_2', '1H_1', '13C_2', '13C_1']\n",
        "  y = [p2, p1, c2, c1]\n",
        "  return plt.bar(x, y, align = 'center')"
      ],
      "metadata": {
        "id": "EWDAPqsnG-97"
      },
      "execution_count": null,
      "outputs": []
    },
    {
      "cell_type": "markdown",
      "source": [
        "## X Gate\n",
        "$X_1 = I_X\\left(\\pi\\right)\\\\\n",
        "X_2 = S_X\\left(\\pi\\right) \\\\\n",
        "X^{\\otimes 2} = \\left(I_X + S_X\\right)\\left(\\pi\\right)\\\\ $"
      ],
      "metadata": {
        "id": "Bi-zU_OKhzc5"
      }
    },
    {
      "cell_type": "code",
      "source": [
        "#Expected Matrices\n",
        "X = Qobj([[0,1],\n",
        "          [1,0]])\n",
        "X_1 = tensor (X, Spin_E)\n",
        "X_2 = tensor(Spin_E, X)\n",
        "X_both = tensor(X, X)"
      ],
      "metadata": {
        "id": "T2gJX0fYhxlR"
      },
      "execution_count": null,
      "outputs": []
    },
    {
      "cell_type": "markdown",
      "source": [
        "BitFlip Function for all three cases"
      ],
      "metadata": {
        "id": "LMEaUYJIRt4K"
      }
    },
    {
      "cell_type": "code",
      "source": [
        "def BitFlip(qubit):\n",
        "  '''\n",
        "  Applies BitFlip Sequence depending on the qubit no.\n",
        "  '''\n",
        "  if qubit == 'H':\n",
        "    #Flips only Hydrogen Spins\n",
        "    return R(IX, -np.pi)\n",
        "\n",
        "  if qubit == 'C':\n",
        "    #Flips only Carbon Spins\n",
        "    return R(SX, -np.pi)\n",
        "\n",
        "  if qubit == 'both':\n",
        "    #Flips both Spins\n",
        "    return R(IX+SX, -np.pi)\n",
        "\n",
        "  else:\n",
        "    print ('Please provide valid qubit')"
      ],
      "metadata": {
        "id": "a39bhjeERrm8"
      },
      "execution_count": null,
      "outputs": []
    },
    {
      "cell_type": "markdown",
      "source": [
        "Simulation of $X_1$"
      ],
      "metadata": {
        "id": "IniIHeObTHtq"
      }
    },
    {
      "cell_type": "code",
      "source": [
        "print ('----------------------------------------------------------------------')\n",
        "print ('This is the Expected Given Matrix for BitFlip:')\n",
        "print ('----------------------------------------------------------------------')\n",
        "print (X_1)\n",
        "print ('----------------------------------------------------------------------')\n",
        "print ('This is the Simulated Matrix for BitFlip on Hydrogen:')\n",
        "print ('----------------------------------------------------------------------')\n",
        "print (np.exp(-1j*np.pi/2)*BitFlip('H'))"
      ],
      "metadata": {
        "colab": {
          "base_uri": "https://localhost:8080/"
        },
        "id": "NESZaQTWSK7G",
        "outputId": "8f2ffc7b-c5cb-4b5d-f024-a4165f568d61"
      },
      "execution_count": null,
      "outputs": [
        {
          "output_type": "stream",
          "name": "stdout",
          "text": [
            "----------------------------------------------------------------------\n",
            "This is the Expected Given Matrix for BitFlip:\n",
            "----------------------------------------------------------------------\n",
            "Quantum object: dims = [[2, 2], [2, 2]], shape = (4, 4), type = oper, isherm = True\n",
            "Qobj data =\n",
            "[[0. 0. 1. 0.]\n",
            " [0. 0. 0. 1.]\n",
            " [1. 0. 0. 0.]\n",
            " [0. 1. 0. 0.]]\n",
            "----------------------------------------------------------------------\n",
            "This is the Simulated Matrix for BitFlip on Hydrogen:\n",
            "----------------------------------------------------------------------\n",
            "Quantum object: dims = [[2, 2], [2, 2]], shape = (4, 4), type = oper, isherm = True\n",
            "Qobj data =\n",
            "[[0. 0. 1. 0.]\n",
            " [0. 0. 0. 1.]\n",
            " [1. 0. 0. 0.]\n",
            " [0. 1. 0. 0.]]\n"
          ]
        }
      ]
    },
    {
      "cell_type": "markdown",
      "source": [
        "Simulation of $X_2$"
      ],
      "metadata": {
        "id": "lnDaP7LZTI1O"
      }
    },
    {
      "cell_type": "code",
      "source": [
        "print ('----------------------------------------------------------------------')\n",
        "print ('This is the Expected Given Matrix for BitFlip:')\n",
        "print ('----------------------------------------------------------------------')\n",
        "print (X_2)\n",
        "print ('----------------------------------------------------------------------')\n",
        "print ('This is the Simulated Matrix for BitFlip on Carbon:')\n",
        "print ('----------------------------------------------------------------------')\n",
        "print (np.exp(-1j*np.pi/2)*BitFlip('C'))"
      ],
      "metadata": {
        "colab": {
          "base_uri": "https://localhost:8080/"
        },
        "id": "2LTKCCbMSMtF",
        "outputId": "ae258fb5-9117-4b0a-f57d-665e08243900"
      },
      "execution_count": null,
      "outputs": [
        {
          "output_type": "stream",
          "name": "stdout",
          "text": [
            "----------------------------------------------------------------------\n",
            "This is the Expected Given Matrix for BitFlip:\n",
            "----------------------------------------------------------------------\n",
            "Quantum object: dims = [[2, 2], [2, 2]], shape = (4, 4), type = oper, isherm = True\n",
            "Qobj data =\n",
            "[[0. 1. 0. 0.]\n",
            " [1. 0. 0. 0.]\n",
            " [0. 0. 0. 1.]\n",
            " [0. 0. 1. 0.]]\n",
            "----------------------------------------------------------------------\n",
            "This is the Simulated Matrix for BitFlip on Carbon:\n",
            "----------------------------------------------------------------------\n",
            "Quantum object: dims = [[2, 2], [2, 2]], shape = (4, 4), type = oper, isherm = True\n",
            "Qobj data =\n",
            "[[0. 1. 0. 0.]\n",
            " [1. 0. 0. 0.]\n",
            " [0. 0. 0. 1.]\n",
            " [0. 0. 1. 0.]]\n"
          ]
        }
      ]
    },
    {
      "cell_type": "markdown",
      "source": [
        "Simulation of $X^{\\otimes 2}$"
      ],
      "metadata": {
        "id": "WUGlnodfTKly"
      }
    },
    {
      "cell_type": "code",
      "source": [
        "print ('----------------------------------------------------------------------')\n",
        "print ('This is the Expected Given Matrix for BitFlip:')\n",
        "print ('----------------------------------------------------------------------')\n",
        "print (X_both)\n",
        "print ('----------------------------------------------------------------------')\n",
        "print ('This is the Simulated Matrix for BitFlip for both qubits:')\n",
        "print ('----------------------------------------------------------------------')\n",
        "print (np.exp(-1j*np.pi)*BitFlip('both'))"
      ],
      "metadata": {
        "colab": {
          "base_uri": "https://localhost:8080/"
        },
        "id": "-zHBJgraSOwb",
        "outputId": "bc5ab7cd-2f65-4e38-b68e-093e5312ba85"
      },
      "execution_count": null,
      "outputs": [
        {
          "output_type": "stream",
          "name": "stdout",
          "text": [
            "----------------------------------------------------------------------\n",
            "This is the Expected Given Matrix for BitFlip:\n",
            "----------------------------------------------------------------------\n",
            "Quantum object: dims = [[2, 2], [2, 2]], shape = (4, 4), type = oper, isherm = True\n",
            "Qobj data =\n",
            "[[0. 0. 0. 1.]\n",
            " [0. 0. 1. 0.]\n",
            " [0. 1. 0. 0.]\n",
            " [1. 0. 0. 0.]]\n",
            "----------------------------------------------------------------------\n",
            "This is the Simulated Matrix for BitFlip for both qubits:\n",
            "----------------------------------------------------------------------\n",
            "Quantum object: dims = [[2, 2], [2, 2]], shape = (4, 4), type = oper, isherm = True\n",
            "Qobj data =\n",
            "[[0. 0. 0. 1.]\n",
            " [0. 0. 1. 0.]\n",
            " [0. 1. 0. 0.]\n",
            " [1. 0. 0. 0.]]\n"
          ]
        }
      ]
    },
    {
      "cell_type": "markdown",
      "source": [
        "## Hadamard Gate"
      ],
      "metadata": {
        "id": "AcU0yCdxMquJ"
      }
    },
    {
      "cell_type": "markdown",
      "source": [
        "$H_1 = I_X (\\pi) I_Y \\left(\\frac{\\pi}{2}\\right) \\\\\n",
        "H_2 = S_X (\\pi) S_Y \\left(\\frac{\\pi}{2}\\right) \\\\\n",
        "H^{\\otimes 2} = H_1 + H_2 = \\left(I_X+S_Y\\right) (\\pi) \\left(I_Y + S_Y\\right) \\left(\\frac{\\pi}{2}\\right) $"
      ],
      "metadata": {
        "id": "EWNcKHr5Msba"
      }
    },
    {
      "cell_type": "code",
      "source": [
        "#Expected Matrices\n",
        "H = 1/np.sqrt(2)*Qobj([[-1j,-1j],\n",
        "                      [-1j,1j]])\n",
        "H_1 = tensor (H, Spin_E)\n",
        "H_2 = tensor(Spin_E, H)\n",
        "H_both = tensor(H, H)"
      ],
      "metadata": {
        "id": "kHRRBGEnIpk8"
      },
      "execution_count": null,
      "outputs": []
    },
    {
      "cell_type": "markdown",
      "source": [
        "Hadamard Function for all three cases"
      ],
      "metadata": {
        "id": "0C_Ux31lQJzI"
      }
    },
    {
      "cell_type": "code",
      "source": [
        "def Hadamard(qubit):\n",
        "  '''\n",
        "  Applies Hadamard Sequence depending on the qubit\n",
        "  '''\n",
        "  if qubit == 'H':\n",
        "    #Hadamards Hydrogen spins\n",
        "    return R(IX, np.pi) * R(IY, np.pi/2)\n",
        "\n",
        "  if qubit == 'C':\n",
        "    #Hadamards Carbon spins\n",
        "    return R(SX, np.pi) * R(SY, np.pi/2)\n",
        "\n",
        "  if qubit == 'both':\n",
        "    #Hadamards both spins\n",
        "    return R(IX+SX, np.pi) * R(IY+SY, np.pi/2)"
      ],
      "metadata": {
        "id": "TSGadnycL1GC"
      },
      "execution_count": null,
      "outputs": []
    },
    {
      "cell_type": "markdown",
      "source": [
        "Simulation of $H_1$"
      ],
      "metadata": {
        "id": "t3yxmxspQMEj"
      }
    },
    {
      "cell_type": "code",
      "source": [
        "print ('----------------------------------------------------------------------')\n",
        "print ('This is the Expected Given Matrix for Hadamard:')\n",
        "print ('----------------------------------------------------------------------')\n",
        "print (np.sqrt(2)*H_1)\n",
        "print ('----------------------------------------------------------------------')\n",
        "print ('This is the Simulated Matrix for Hadamard on Hydrogen:')\n",
        "print ('----------------------------------------------------------------------')\n",
        "print (np.sqrt(2)*Hadamard('H'))"
      ],
      "metadata": {
        "colab": {
          "base_uri": "https://localhost:8080/"
        },
        "id": "gu0nf8XgPOpo",
        "outputId": "55451790-5b30-4cb3-b5ca-e23caa742b5e"
      },
      "execution_count": null,
      "outputs": [
        {
          "output_type": "stream",
          "name": "stdout",
          "text": [
            "----------------------------------------------------------------------\n",
            "This is the Expected Given Matrix for Hadamard:\n",
            "----------------------------------------------------------------------\n",
            "Quantum object: dims = [[2, 2], [2, 2]], shape = (4, 4), type = oper, isherm = False\n",
            "Qobj data =\n",
            "[[0.-1.j 0.+0.j 0.-1.j 0.+0.j]\n",
            " [0.+0.j 0.-1.j 0.+0.j 0.-1.j]\n",
            " [0.-1.j 0.+0.j 0.+1.j 0.+0.j]\n",
            " [0.+0.j 0.-1.j 0.+0.j 0.+1.j]]\n",
            "----------------------------------------------------------------------\n",
            "This is the Simulated Matrix for Hadamard on Hydrogen:\n",
            "----------------------------------------------------------------------\n",
            "Quantum object: dims = [[2, 2], [2, 2]], shape = (4, 4), type = oper, isherm = False\n",
            "Qobj data =\n",
            "[[0.-1.j 0.+0.j 0.-1.j 0.+0.j]\n",
            " [0.+0.j 0.-1.j 0.+0.j 0.-1.j]\n",
            " [0.-1.j 0.+0.j 0.+1.j 0.+0.j]\n",
            " [0.+0.j 0.-1.j 0.+0.j 0.+1.j]]\n"
          ]
        }
      ]
    },
    {
      "cell_type": "markdown",
      "source": [
        "Simulation of $H_2$"
      ],
      "metadata": {
        "id": "SvWaLn6EQPN3"
      }
    },
    {
      "cell_type": "code",
      "source": [
        "print ('----------------------------------------------------------------------')\n",
        "print ('This is the Expected Given Matrix for Hadamard:')\n",
        "print ('----------------------------------------------------------------------')\n",
        "print (np.sqrt(2)*H_2)\n",
        "print ('----------------------------------------------------------------------')\n",
        "print ('This is the Simulated Matrix for Hadamard on Carbon:')\n",
        "print ('----------------------------------------------------------------------')\n",
        "print (np.sqrt(2)*Hadamard('C'))"
      ],
      "metadata": {
        "colab": {
          "base_uri": "https://localhost:8080/"
        },
        "id": "GQjOGW7WPkxt",
        "outputId": "c25ea7cc-2f42-499b-bb89-5a24ecc96644"
      },
      "execution_count": null,
      "outputs": [
        {
          "output_type": "stream",
          "name": "stdout",
          "text": [
            "----------------------------------------------------------------------\n",
            "This is the Expected Given Matrix for Hadamard:\n",
            "----------------------------------------------------------------------\n",
            "Quantum object: dims = [[2, 2], [2, 2]], shape = (4, 4), type = oper, isherm = False\n",
            "Qobj data =\n",
            "[[0.-1.j 0.-1.j 0.+0.j 0.+0.j]\n",
            " [0.-1.j 0.+1.j 0.+0.j 0.+0.j]\n",
            " [0.+0.j 0.+0.j 0.-1.j 0.-1.j]\n",
            " [0.+0.j 0.+0.j 0.-1.j 0.+1.j]]\n",
            "----------------------------------------------------------------------\n",
            "This is the Simulated Matrix for Hadamard on Carbon:\n",
            "----------------------------------------------------------------------\n",
            "Quantum object: dims = [[2, 2], [2, 2]], shape = (4, 4), type = oper, isherm = False\n",
            "Qobj data =\n",
            "[[0.-1.j 0.-1.j 0.+0.j 0.+0.j]\n",
            " [0.-1.j 0.+1.j 0.+0.j 0.+0.j]\n",
            " [0.+0.j 0.+0.j 0.-1.j 0.-1.j]\n",
            " [0.+0.j 0.+0.j 0.-1.j 0.+1.j]]\n"
          ]
        }
      ]
    },
    {
      "cell_type": "markdown",
      "source": [
        "Simulation of $H^{\\otimes 2}$"
      ],
      "metadata": {
        "id": "fQ8PE5UYQRGG"
      }
    },
    {
      "cell_type": "code",
      "source": [
        "print ('----------------------------------------------------------------------')\n",
        "print ('This is the Expected Given Matrix for Hadamard:')\n",
        "print ('----------------------------------------------------------------------')\n",
        "print (2*H_both)\n",
        "print ('----------------------------------------------------------------------')\n",
        "print ('This is the Simulated Matrix for Hadamard on both:')\n",
        "print ('----------------------------------------------------------------------')\n",
        "print (2*Hadamard('both'))"
      ],
      "metadata": {
        "colab": {
          "base_uri": "https://localhost:8080/"
        },
        "id": "AhXymV2LPn2E",
        "outputId": "af0c5c04-e276-4147-d27b-f7d7cdd860f2"
      },
      "execution_count": null,
      "outputs": [
        {
          "output_type": "stream",
          "name": "stdout",
          "text": [
            "----------------------------------------------------------------------\n",
            "This is the Expected Given Matrix for Hadamard:\n",
            "----------------------------------------------------------------------\n",
            "Quantum object: dims = [[2, 2], [2, 2]], shape = (4, 4), type = oper, isherm = True\n",
            "Qobj data =\n",
            "[[-1. -1. -1. -1.]\n",
            " [-1.  1. -1.  1.]\n",
            " [-1. -1.  1.  1.]\n",
            " [-1.  1.  1. -1.]]\n",
            "----------------------------------------------------------------------\n",
            "This is the Simulated Matrix for Hadamard on both:\n",
            "----------------------------------------------------------------------\n",
            "Quantum object: dims = [[2, 2], [2, 2]], shape = (4, 4), type = oper, isherm = True\n",
            "Qobj data =\n",
            "[[-1. -1. -1. -1.]\n",
            " [-1.  1. -1.  1.]\n",
            " [-1. -1.  1.  1.]\n",
            " [-1.  1.  1. -1.]]\n"
          ]
        }
      ]
    },
    {
      "cell_type": "markdown",
      "source": [
        "## Controlled-Z Gate"
      ],
      "metadata": {
        "id": "4zp6iJ9cTRIZ"
      }
    },
    {
      "cell_type": "markdown",
      "source": [
        "$CZ = I_{z} \\left(\\frac{\\pi}{2}\\right) S_{z} \\left(\\frac{\\pi}{2}\\right) 2I_ZS_Z\\left(\\frac{-\\pi}{2}\\right) \\\\\n",
        "\\text{Accounting for composite pulses in the NMR system} \\\\\n",
        "CZ = I_X\\left(\\frac{\\pi}{2}\\right)I_Y\\left(\\frac{\\pi}{2}\\right)I_X\\left(\\frac{-\\pi}{2}\\right) \\ -> \\ S_X\\left(\\frac{\\pi}{2}\\right)S_Y\\left(\\frac{\\pi}{2}\\right)S_X\\left(\\frac{-\\pi}{2}\\right) \\ - > \\ I_ZS_Z\\left(-\\pi\\right) $"
      ],
      "metadata": {
        "id": "DrJ9gQcCTWXz"
      }
    },
    {
      "cell_type": "code",
      "source": [
        "def CZ(qubit):\n",
        "  '''\n",
        "  The function implements the exact matrix and implements\n",
        "  the composite case for NMR simulation\n",
        "  '''\n",
        "  if qubit == 'exact':\n",
        "    #Exact pulse, un-implementable on NMR\n",
        "    return R(IZ, np.pi/2) * R(SZ, np.pi/2) * R(IZSZ, -np.pi)\n",
        "  if qubit == 'composite':\n",
        "    #Pulse, implementable on NMR\n",
        "    return R(IX, np.pi/2)*R(IY, np.pi/2)*R(IX, -np.pi/2) * R(SX, np.pi/2)*R(SY, np.pi/2)*R(SX, -np.pi/2) * R(IZSZ, -np.pi)"
      ],
      "metadata": {
        "id": "EUlzUy-7TUAe"
      },
      "execution_count": null,
      "outputs": []
    },
    {
      "cell_type": "markdown",
      "source": [
        "CZ with the IZ pulses non-native to NMR system"
      ],
      "metadata": {
        "id": "i8O6uyvoYNSB"
      }
    },
    {
      "cell_type": "code",
      "source": [
        "print (np.exp(1j*np.pi/4)*CZ('exact'))"
      ],
      "metadata": {
        "colab": {
          "base_uri": "https://localhost:8080/"
        },
        "id": "BWJbHvyzYHzZ",
        "outputId": "2568c1a4-57ce-4a6f-9d89-d184c80b8708"
      },
      "execution_count": null,
      "outputs": [
        {
          "output_type": "stream",
          "name": "stdout",
          "text": [
            "Quantum object: dims = [[2, 2], [2, 2]], shape = (4, 4), type = oper, isherm = True\n",
            "Qobj data =\n",
            "[[ 1.  0.  0.  0.]\n",
            " [ 0.  1.  0.  0.]\n",
            " [ 0.  0.  1.  0.]\n",
            " [ 0.  0.  0. -1.]]\n"
          ]
        }
      ]
    },
    {
      "cell_type": "markdown",
      "source": [
        "CZ with the composite pulses"
      ],
      "metadata": {
        "id": "qCy_qqggYQY8"
      }
    },
    {
      "cell_type": "code",
      "source": [
        "print (np.exp(1j*np.pi/4)*CZ('composite'))"
      ],
      "metadata": {
        "colab": {
          "base_uri": "https://localhost:8080/"
        },
        "id": "13uDkoMqXzdI",
        "outputId": "517a573b-22ce-49be-87e6-50b5207d8209"
      },
      "execution_count": null,
      "outputs": [
        {
          "output_type": "stream",
          "name": "stdout",
          "text": [
            "Quantum object: dims = [[2, 2], [2, 2]], shape = (4, 4), type = oper, isherm = True\n",
            "Qobj data =\n",
            "[[ 1.  0.  0.  0.]\n",
            " [ 0.  1.  0.  0.]\n",
            " [ 0.  0.  1.  0.]\n",
            " [ 0.  0.  0. -1.]]\n"
          ]
        }
      ]
    },
    {
      "cell_type": "markdown",
      "source": [
        "However, the different pulses sequences result in the same changes to the thermal state spectrum"
      ],
      "metadata": {
        "id": "onc33mnfYpKH"
      }
    },
    {
      "cell_type": "code",
      "source": [
        "SpectraPlotter(rho, CZ('exact'))\n",
        "plt.xlabel('(<----- increasing Freq) Peak Locations')\n",
        "plt.ylabel('Signal Amplitude')\n",
        "plt.title('Exact CZ')\n",
        "plt.grid(True)\n",
        "plt.show()"
      ],
      "metadata": {
        "colab": {
          "base_uri": "https://localhost:8080/",
          "height": 508
        },
        "id": "z48MXsHIYD_1",
        "outputId": "dc74e23e-163d-4e38-cddc-985068f4ed1a"
      },
      "execution_count": null,
      "outputs": [
        {
          "output_type": "stream",
          "name": "stderr",
          "text": [
            "/usr/local/lib/python3.10/dist-packages/matplotlib/transforms.py:762: ComplexWarning: Casting complex values to real discards the imaginary part\n",
            "  points = np.asarray(points, float)\n"
          ]
        },
        {
          "output_type": "display_data",
          "data": {
            "text/plain": [
              "<Figure size 640x480 with 1 Axes>"
            ],
            "image/png": "[encoded data removed]"
          },
          "metadata": {}
        }
      ]
    },
    {
      "cell_type": "code",
      "source": [
        "SpectraPlotter(rho, CZ('composite'))\n",
        "plt.xlabel('(<----- increasing Freq) Peak Locations')\n",
        "plt.ylabel('Signal Amplitude')\n",
        "plt.title('Composite CZ')\n",
        "plt.grid(True)\n",
        "plt.show()"
      ],
      "metadata": {
        "colab": {
          "base_uri": "https://localhost:8080/",
          "height": 472
        },
        "id": "AZ6KmaKiYbi3",
        "outputId": "de5892a7-8a2d-4a08-8ff4-d12914ab10ec"
      },
      "execution_count": null,
      "outputs": [
        {
          "output_type": "display_data",
          "data": {
            "text/plain": [
              "<Figure size 640x480 with 1 Axes>"
            ],
            "image/png": "[encoded data removed]"
          },
          "metadata": {}
        }
      ]
    },
    {
      "cell_type": "markdown",
      "source": [
        "## Controlled NOT gate"
      ],
      "metadata": {
        "id": "5JVSvw7MY1qe"
      }
    },
    {
      "cell_type": "markdown",
      "source": [
        "$CNOT = e^{\\frac{i\\pi}{4}}S_Z\\left(\\frac{-\\pi}{2}\\right)S_X\\left(\\frac{\\pi}{2}\\right)2I_ZS_Z \\left(\\frac{\\pi}{2}\\right)S_Y\\left(\\frac{\\pi}{2}\\right)I_Z\\left(\\frac{\\pi}{2}\\right) \\\\\n",
        "CNOT = e^{\\frac{i\\pi}{4}} S_X\\left(\\frac{-\\pi}{2}\\right)S_Y\\left(\\frac{-\\pi}{2}\\right)S_X\\left(\\frac{\\pi}{2}\\right)\\ -> \\ S_X\\left(\\frac{\\pi}{2}\\right)2I_ZS_Z \\left(\\frac{\\pi}{2}\\right)S_Y\\left(\\frac{\\pi}{2}\\right) \\ -> \\ I_X\\left(\\frac{-\\pi}{2}\\right)I_Y\\left(\\frac{\\pi}{2}\\right)I_X\\left(\\frac{\\pi}{2}\\right) $"
      ],
      "metadata": {
        "id": "R5j_PRRBY8LW"
      }
    },
    {
      "cell_type": "code",
      "source": [
        "def R_IZ(angle):\n",
        "  #Composite Pulse for a non-native IZ pulse\n",
        "  return R(IX, np.pi/2)*R(IY, angle)*R(IX, -np.pi/2)\n",
        "\n",
        "def R_SZ(angle):\n",
        "  #Composite Pulse for a non-native SZ pulse\n",
        "  return R(SX, np.pi/2)*R(SY, angle)*R(SX, -np.pi/2)"
      ],
      "metadata": {
        "id": "8jP7YV2lZ0SK"
      },
      "execution_count": null,
      "outputs": []
    },
    {
      "cell_type": "code",
      "source": [
        "def CNOT(qubit):\n",
        "  if qubit == 'exact':\n",
        "    #Exact but un-implementable pulse in NMR\n",
        "    return (R(SZ,-np.pi/2) * R(SX, np.pi/2) * R(IZSZ, np.pi) * R(SY, np.pi/2) * R(IZ,np.pi/2))\n",
        "  if qubit == 'composite':\n",
        "    #Composite and implementable pulse using CNOT_appx\n",
        "    return (R_SZ(-np.pi/2) * R(SX, np.pi/2) * R(IZSZ, np.pi) * R(SY, np.pi/2) * R_IZ(np.pi/2))\n",
        "  if qubit == 'cz':\n",
        "    #Composite pulse using Hadamard and CZ\n",
        "    return Hadamard('C') * CZ('composite') * Hadamard('C')"
      ],
      "metadata": {
        "id": "KXpaTraLY7Qz"
      },
      "execution_count": null,
      "outputs": []
    },
    {
      "cell_type": "markdown",
      "source": [
        "CNOT gate constructed with composite pulses of IZ, SZ and CNOT_appx"
      ],
      "metadata": {
        "id": "9FY9mxAigtzT"
      }
    },
    {
      "cell_type": "code",
      "source": [
        "print (np.exp(1j*np.pi/4)*CNOT('composite'))"
      ],
      "metadata": {
        "colab": {
          "base_uri": "https://localhost:8080/"
        },
        "id": "QuAkPH33aSfF",
        "outputId": "0094878f-ba6b-43ab-9032-4c09bb3230b1"
      },
      "execution_count": null,
      "outputs": [
        {
          "output_type": "stream",
          "name": "stdout",
          "text": [
            "Quantum object: dims = [[2, 2], [2, 2]], shape = (4, 4), type = oper, isherm = True\n",
            "Qobj data =\n",
            "[[1. 0. 0. 0.]\n",
            " [0. 1. 0. 0.]\n",
            " [0. 0. 0. 1.]\n",
            " [0. 0. 1. 0.]]\n"
          ]
        }
      ]
    },
    {
      "cell_type": "markdown",
      "source": [
        "CNOT gate constructed with CZ and Hadamards"
      ],
      "metadata": {
        "id": "_RSc1ZU4gynL"
      }
    },
    {
      "cell_type": "code",
      "source": [
        "print (np.exp(1j*np.pi/4)*CNOT('cz'))"
      ],
      "metadata": {
        "colab": {
          "base_uri": "https://localhost:8080/"
        },
        "id": "RtysKZdPb9Lm",
        "outputId": "378d58fb-6ec4-4a5a-ec17-e2f4bc6a91d4"
      },
      "execution_count": null,
      "outputs": [
        {
          "output_type": "stream",
          "name": "stdout",
          "text": [
            "Quantum object: dims = [[2, 2], [2, 2]], shape = (4, 4), type = oper, isherm = True\n",
            "Qobj data =\n",
            "[[-1.  0.  0.  0.]\n",
            " [ 0. -1.  0.  0.]\n",
            " [ 0.  0.  0. -1.]\n",
            " [ 0.  0. -1.  0.]]\n"
          ]
        }
      ]
    },
    {
      "cell_type": "markdown",
      "source": [
        "However, the different pulses sequences result in the same changes to the thermal state spectrum"
      ],
      "metadata": {
        "id": "fwGgaxsede_E"
      }
    },
    {
      "cell_type": "code",
      "source": [
        "SpectraPlotter(rho, CNOT('composite'))\n",
        "plt.xlabel('(<----- increasing Freq) Peak Locations')\n",
        "plt.ylabel('Signal Amplitude')\n",
        "plt.title('CNOT from CNOT_Appx')\n",
        "plt.grid(True)\n",
        "plt.show()"
      ],
      "metadata": {
        "colab": {
          "base_uri": "https://localhost:8080/",
          "height": 472
        },
        "id": "PiIgFDGlcLEw",
        "outputId": "cc0f6112-20a7-4923-b466-309b7be35a30"
      },
      "execution_count": null,
      "outputs": [
        {
          "output_type": "display_data",
          "data": {
            "text/plain": [
              "<Figure size 640x480 with 1 Axes>"
            ],
            "image/png": "[encoded data removed]"
          },
          "metadata": {}
        }
      ]
    },
    {
      "cell_type": "code",
      "source": [
        "SpectraPlotter(rho, CNOT('cz'))\n",
        "plt.xlabel('(<----- increasing Freq) Peak Locations')\n",
        "plt.ylabel('Signal Amplitude')\n",
        "plt.title('CNOT from H CZ H')\n",
        "plt.grid(True)\n",
        "plt.show()"
      ],
      "metadata": {
        "colab": {
          "base_uri": "https://localhost:8080/",
          "height": 472
        },
        "id": "wwXnSnMDdbsl",
        "outputId": "ef626b40-acac-4dac-9c03-68d240cda6ef"
      },
      "execution_count": null,
      "outputs": [
        {
          "output_type": "display_data",
          "data": {
            "text/plain": [
              "<Figure size 640x480 with 1 Axes>"
            ],
            "image/png": "[encoded data removed]"
          },
          "metadata": {}
        }
      ]
    },
    {
      "cell_type": "markdown",
      "source": [
        "## Temporal Averaging"
      ],
      "metadata": {
        "id": "DI0R_YONjlX-"
      }
    },
    {
      "cell_type": "markdown",
      "source": [
        "Permutation Operators \\\\\n",
        "$P_1 = S_X\\left(\\frac{\\pi}{2}\\right)I_ZS_Z \\left(\\frac{\\pi}{2}\\right) \\left(S_Y+I_X\\right)\\left(\\frac{\\pi}{2}\\right)I_ZS_Z \\left(\\frac{\\pi}{2}\\right)I_Y\\left(\\frac{\\pi}{2}\\right) \\\\\n",
        "P_2 = I_X\\left(\\frac{\\pi}{2}\\right)I_ZS_Z \\left(\\frac{\\pi}{2}\\right) \\left(S_X+I_Y\\right)\\left(\\frac{\\pi}{2}\\right)I_ZS_Z \\left(\\frac{\\pi}{2}\\right)S_Y\\left(\\frac{\\pi}{2}\\right) \\\\\n",
        "P_0 = I^{(4)} $"
      ],
      "metadata": {
        "id": "XXC00z16j2j8"
      }
    },
    {
      "cell_type": "code",
      "source": [
        "def Permutation(P):\n",
        "  '''\n",
        "  Three permutation operations\n",
        "  P2 = adjoint of P1\n",
        "  '''\n",
        "  if P == '0':\n",
        "    #P0 is Identity\n",
        "    return ID\n",
        "  if P == '1':\n",
        "    return R(SX, np.pi/2) * R(IZSZ, np.pi) * R(SY+IX, np.pi/2) * R(IZSZ, np.pi) * R(IY, np.pi/2)\n",
        "  if P == '2':\n",
        "    #P2 is adjoint of P1\n",
        "    return R(IX, np.pi/2) * R(IZSZ, np.pi) * R(SX+IY, np.pi/2) * R(IZSZ, np.pi) * R(SY, np.pi/2)\n",
        "\n",
        "def MultPlot(rho, Gates, plot = False):\n",
        "  '''\n",
        "  Plotting for in-between stages for trouble-shooting\n",
        "  '''\n",
        "  sim = (Gates[0]*Gates[1]*Gates[2])*rho*(Gates[0]*Gates[1]*Gates[2]).dag()\n",
        "  if plot == True:\n",
        "    return SpectraPlotter(rho, (Gates[0]*Gates[1]*Gates[2]))\n",
        "  if plot == False:\n",
        "    return sim\n",
        "\n",
        "def TempAvg(rho, Gate1, Gate2):\n",
        "  '''\n",
        "  Algorithm testing in Gate1\n",
        "  State preparation as Gate2\n",
        "  and then Temporal Averaging process\n",
        "  '''\n",
        "  P0 = Permutation('0')\n",
        "  P1 = Permutation('1')\n",
        "  P2 = Permutation('2')\n",
        "\n",
        "  rho0 = MultPlot(rho, [Gate1, Gate2, P0], False)\n",
        "  rho1 = MultPlot(rho, [Gate1, Gate2, P1], False)\n",
        "  rho2 = MultPlot(rho, [Gate1, Gate2, P2], False)\n",
        "  avg = (rho0 + rho1 + rho2)/3 + 5/3 * ID\n",
        "  return avg"
      ],
      "metadata": {
        "id": "u3GbBclFjkr4"
      },
      "execution_count": 88,
      "outputs": []
    },
    {
      "cell_type": "markdown",
      "source": [
        "## State Preparation for DJ and Grover's"
      ],
      "metadata": {
        "id": "It1Q8Ipv14nj"
      }
    },
    {
      "cell_type": "markdown",
      "source": [
        "$|01\\rangle$ prepared using Temporal Averaging"
      ],
      "metadata": {
        "id": "RsAZzGbvzPpK"
      }
    },
    {
      "cell_type": "code",
      "source": [
        "rho_01 = TempAvg(rho, ID, BitFlip('C'))\n",
        "print(rho_01)"
      ],
      "metadata": {
        "colab": {
          "base_uri": "https://localhost:8080/"
        },
        "id": "TncwYRRFktgq",
        "outputId": "a7a3d8c7-c10f-4300-e7ce-faccf1bbeab1"
      },
      "execution_count": null,
      "outputs": [
        {
          "output_type": "stream",
          "name": "stdout",
          "text": [
            "Quantum object: dims = [[2, 2], [2, 2]], shape = (4, 4), type = oper, isherm = True\n",
            "Qobj data =\n",
            "[[0.     0.     0.     0.    ]\n",
            " [0.     6.6667 0.     0.    ]\n",
            " [0.     0.     0.     0.    ]\n",
            " [0.     0.     0.     0.    ]]\n"
          ]
        }
      ]
    },
    {
      "cell_type": "markdown",
      "source": [
        "$|00\\rangle$ prepared using Temporal Averaging"
      ],
      "metadata": {
        "id": "NRxgQHgL1_1u"
      }
    },
    {
      "cell_type": "code",
      "source": [
        "rho_00 = TempAvg(rho, ID, ID)\n",
        "print(rho_00)"
      ],
      "metadata": {
        "colab": {
          "base_uri": "https://localhost:8080/"
        },
        "id": "u8Pc_YFY18o8",
        "outputId": "dc8497fe-5e82-4fb9-adb2-d807019d4794"
      },
      "execution_count": null,
      "outputs": [
        {
          "output_type": "stream",
          "name": "stdout",
          "text": [
            "Quantum object: dims = [[2, 2], [2, 2]], shape = (4, 4), type = oper, isherm = True\n",
            "Qobj data =\n",
            "[[6.6667 0.     0.     0.    ]\n",
            " [0.     0.     0.     0.    ]\n",
            " [0.     0.     0.     0.    ]\n",
            " [0.     0.     0.     0.    ]]\n"
          ]
        }
      ]
    },
    {
      "cell_type": "markdown",
      "source": [
        "## Classical and Quantum Circuits"
      ],
      "metadata": {
        "id": "cWjI2I_NV86R"
      }
    },
    {
      "cell_type": "markdown",
      "source": [
        "$f_1 = 0 \\\\\n",
        "f_2 = 1 \\\\\n",
        "f_3 = x \\\\\n",
        "f_4 = 1-x\\\\ $"
      ],
      "metadata": {
        "id": "4rvSjSZ2WC8M"
      }
    },
    {
      "cell_type": "code",
      "source": [
        "def Oracle (func):\n",
        "  if func == '1':\n",
        "    return ID\n",
        "  if func == '2':\n",
        "    return BitFlip('C')\n",
        "  if func == '3':\n",
        "    return CNOT('cz')\n",
        "  if func == '4':\n",
        "    return CNOT('cz') * BitFlip('C')"
      ],
      "metadata": {
        "id": "-ORO7rHAj5RC"
      },
      "execution_count": null,
      "outputs": []
    },
    {
      "cell_type": "markdown",
      "source": [
        "Doing EXACT Hadamard instead of PSUEDO-Hadamard for accurate Hermitian Oracles"
      ],
      "metadata": {
        "id": "BUhUbfzrDQE7"
      }
    },
    {
      "cell_type": "code",
      "source": [
        "print (Hadamard('C') * Oracle('1') * Hadamard('C')) #U_f1\n",
        "print (np.exp(-1j*np.pi/2)*Hadamard('C') * Oracle('2') * Hadamard('C')) #U_f2\n",
        "print (np.exp(1j*np.pi/4)*Hadamard('C') * Oracle('3') * Hadamard('C')) #U_f3\n",
        "print (np.exp(-1j*np.pi/4)*Hadamard('C') * Oracle('4') * Hadamard('C')) #U_f4"
      ],
      "metadata": {
        "colab": {
          "base_uri": "https://localhost:8080/"
        },
        "id": "WsJXmjKgB766",
        "outputId": "dc6f8886-be2b-43f6-b92b-797fdf47c8f3"
      },
      "execution_count": null,
      "outputs": [
        {
          "output_type": "stream",
          "name": "stdout",
          "text": [
            "Quantum object: dims = [[2, 2], [2, 2]], shape = (4, 4), type = oper, isherm = True\n",
            "Qobj data =\n",
            "[[-1.  0.  0.  0.]\n",
            " [ 0. -1.  0.  0.]\n",
            " [ 0.  0. -1.  0.]\n",
            " [ 0.  0.  0. -1.]]\n",
            "Quantum object: dims = [[2, 2], [2, 2]], shape = (4, 4), type = oper, isherm = True\n",
            "Qobj data =\n",
            "[[-1.  0.  0.  0.]\n",
            " [ 0.  1.  0.  0.]\n",
            " [ 0.  0. -1.  0.]\n",
            " [ 0.  0.  0.  1.]]\n",
            "Quantum object: dims = [[2, 2], [2, 2]], shape = (4, 4), type = oper, isherm = True\n",
            "Qobj data =\n",
            "[[ 1.  0.  0.  0.]\n",
            " [ 0.  1.  0.  0.]\n",
            " [ 0.  0.  1.  0.]\n",
            " [ 0.  0.  0. -1.]]\n",
            "Quantum object: dims = [[2, 2], [2, 2]], shape = (4, 4), type = oper, isherm = True\n",
            "Qobj data =\n",
            "[[ 1.  0.  0.  0.]\n",
            " [ 0. -1.  0.  0.]\n",
            " [ 0.  0.  1.  0.]\n",
            " [ 0.  0.  0.  1.]]\n"
          ]
        }
      ]
    },
    {
      "cell_type": "markdown",
      "source": [
        "## Deutsch-Jozsa Algorithm"
      ],
      "metadata": {
        "id": "ygE860rsl4xk"
      }
    },
    {
      "cell_type": "markdown",
      "source": [
        "### General Sequence to apply DJ algorithm\n",
        "\n",
        "There are four oracles, for four functions, with two each for constant and balanced function cases. Therefore, there are four implementations of the DJ algorithm. Additionally, a pre-sequence needs to precede the algorithm because the state of the NMR system cannot be intialized to the states we want.\n",
        "\n",
        "However, we can do three experiments for each implementation of the DJ algorithm to help us to temporal averaging post processing. The following is the general pulse sequence design for all implementations of DJ algorithm"
      ],
      "metadata": {
        "id": "k8FHVjOcl8xu"
      }
    },
    {
      "cell_type": "markdown",
      "source": [
        "$\\textbf{Constant Function f(0) = f(1) = 0} \\\\\n",
        "U_{k_1} = \\mathbb{1}^{\\otimes 2} \\\\\n",
        "P0 \\ H^{\\otimes 2} \\mathbb{1}^{\\otimes 2} H^{\\dagger \\otimes 2} \\\\\n",
        "P1 \\ H^{\\otimes 2}\\mathbb{1}^{\\otimes 2}H^{\\dagger \\otimes 2}\\\\\n",
        "P2 \\ H^{\\otimes 2}\\mathbb{1}^{\\otimes 2} H^{\\dagger \\otimes 2}\\\\ $\n",
        "\n",
        "\n",
        "$\\textbf{Constant Function f(0) = f(1) = 1} \\\\\n",
        "U_{k_1} = X_2 \\\\\n",
        "P0 \\ H^{\\otimes 2}X_2H^{\\dagger \\otimes 2} \\\\\n",
        "P1 \\ H^{\\otimes 2}X_2H^{\\dagger \\otimes 2} \\\\\n",
        "P2 \\ H^{\\otimes 2}X_2H^{\\dagger \\otimes 2} \\\\ $\n",
        "\n",
        "$\\textbf{Balanced Function f(0) = 0 and f(1) = 1} \\\\\n",
        "U_{k_2} = CNOT \\\\\n",
        "P0 \\ H^{\\otimes 2} CNOT \\ H^{\\dagger \\otimes 2} \\\\\n",
        "P1 \\ H^{\\otimes 2} CNOT \\ H^{\\dagger \\otimes 2} \\\\\n",
        "P2 \\ H^{\\otimes 2} CNOT \\ H^{\\dagger \\otimes 2} \\\\ $\n",
        "\n",
        "$\\textbf{Balanced Function f(0) = 1 and f(1) = 0} \\\\\n",
        "U_{k_3} = CNOT \\ X_2 \\\\\n",
        "P0 \\ H^{\\otimes 2} CNOT \\ X_2 H^{\\dagger \\otimes 2} \\\\\n",
        "P1 \\ H^{\\otimes 2} CNOT \\ X_2 H^{\\dagger \\otimes 2} \\\\\n",
        "P2 \\ H^{\\otimes 2} CNOT \\ X_2 H^{\\dagger \\otimes 2} \\\\ $"
      ],
      "metadata": {
        "id": "Ahip2TxBl_iL"
      }
    },
    {
      "cell_type": "markdown",
      "source": [
        "Constant Function f(0) = f(1) = 0\n",
        "\n",
        "$U_{k_1} = ID = \\mathbb{1}$\n",
        "\n",
        "Constant Function f(0) = f(1) = 1\n",
        "\n",
        "$U_{k_2} = X_2 = S_X\\left(\\pi\\right)$\n",
        "\n",
        "Balanced Function f(0) = 0, f(1) = 1\n",
        "\n",
        "$U_{k_3} = CNOT = S_X\\left(\\frac{-\\pi}{2}\\right)S_Y\\left(\\frac{-\\pi}{2}\\right)S_X\\left(\\frac{\\pi}{2}\\right) S_X\\left(\\frac{\\pi}{2}\\right)2I_ZS_Z \\left(\\frac{\\pi}{2}\\right)S_Y\\left(\\frac{-\\pi}{2}\\right) I_X\\left(\\frac{-\\pi}{2}\\right)I_Y\\left(\\frac{\\pi}{2}\\right)I_X\\left(\\frac{\\pi}{2}\\right)$\n",
        "\n",
        "Balanced Function f(0) = 1, f(1) = 0\n",
        "\n",
        "$U_{k_4} = CNOT \\ X_2 = S_X\\left(\\frac{-\\pi}{2}\\right)S_Y\\left(\\frac{-\\pi}{2}\\right)S_X\\left(\\frac{\\pi}{2}\\right) S_X\\left(\\frac{\\pi}{2}\\right)2I_ZS_Z \\left(\\frac{\\pi}{2}\\right)S_Y\\left(\\frac{-\\pi}{2}\\right) I_X\\left(\\frac{-\\pi}{2}\\right)I_Y\\left(\\frac{\\pi}{2}\\right)I_X\\left(\\frac{\\pi}{2}\\right)S_X\\left(\\pi\\right)$"
      ],
      "metadata": {
        "id": "jj3Yi7t_mDc6"
      }
    },
    {
      "cell_type": "code",
      "source": [
        "def DJ(oracle):\n",
        "  if oracle == '1':\n",
        "    return Hadamard('both') * Oracle ('1') * Hadamard('both')\n",
        "  if oracle == '2':\n",
        "    return Hadamard('both') * Oracle ('2') * Hadamard('both')\n",
        "  if oracle == '3':\n",
        "    return Hadamard('both') * Oracle ('3') * Hadamard('both')\n",
        "  if oracle == '4':\n",
        "    return Hadamard('both') * Oracle ('4') * Hadamard('both')"
      ],
      "metadata": {
        "id": "f1-0W4ssl72t"
      },
      "execution_count": null,
      "outputs": []
    },
    {
      "cell_type": "markdown",
      "source": [
        "Constant Deutsch-Jozsa Algorithms"
      ],
      "metadata": {
        "id": "-SXqb9HPw7bA"
      }
    },
    {
      "cell_type": "markdown",
      "source": [
        "$DJ_{const}|01\\rangle$  = $|01\\rangle$"
      ],
      "metadata": {
        "id": "wYo-6CtpKTh5"
      }
    },
    {
      "cell_type": "code",
      "source": [
        "print (TempAvg(rho, DJ('1'), BitFlip('C')))\n",
        "print (TempAvg(rho, DJ('2'), BitFlip('C')))"
      ],
      "metadata": {
        "colab": {
          "base_uri": "https://localhost:8080/"
        },
        "id": "G3NWTdmJwjDM",
        "outputId": "ef8967f3-ee8c-4040-a468-26d3164b0eea"
      },
      "execution_count": null,
      "outputs": [
        {
          "output_type": "stream",
          "name": "stdout",
          "text": [
            "Quantum object: dims = [[2, 2], [2, 2]], shape = (4, 4), type = oper, isherm = True\n",
            "Qobj data =\n",
            "[[0.     0.     0.     0.    ]\n",
            " [0.     6.6667 0.     0.    ]\n",
            " [0.     0.     0.     0.    ]\n",
            " [0.     0.     0.     0.    ]]\n",
            "Quantum object: dims = [[2, 2], [2, 2]], shape = (4, 4), type = oper, isherm = True\n",
            "Qobj data =\n",
            "[[0.     0.     0.     0.    ]\n",
            " [0.     6.6667 0.     0.    ]\n",
            " [0.     0.     0.     0.    ]\n",
            " [0.     0.     0.     0.    ]]\n"
          ]
        }
      ]
    },
    {
      "cell_type": "markdown",
      "source": [
        "Balanced Deutsch-Jozsa Algorithms"
      ],
      "metadata": {
        "id": "ohAlkp0Aw_UB"
      }
    },
    {
      "cell_type": "markdown",
      "source": [
        "$DJ_{bal}|01\\rangle$  = $|11\\rangle$"
      ],
      "metadata": {
        "id": "1-pFA311KfdE"
      }
    },
    {
      "cell_type": "code",
      "source": [
        "print (TempAvg(rho, DJ('3'), BitFlip('C')))\n",
        "print (TempAvg(rho, DJ('4'), BitFlip('C')))"
      ],
      "metadata": {
        "colab": {
          "base_uri": "https://localhost:8080/"
        },
        "id": "ED-ClPGKw3n-",
        "outputId": "d4a2a5a7-2371-4d1b-c9aa-4a079700dcb1"
      },
      "execution_count": null,
      "outputs": [
        {
          "output_type": "stream",
          "name": "stdout",
          "text": [
            "Quantum object: dims = [[2, 2], [2, 2]], shape = (4, 4), type = oper, isherm = True\n",
            "Qobj data =\n",
            "[[0.     0.     0.     0.    ]\n",
            " [0.     0.     0.     0.    ]\n",
            " [0.     0.     0.     0.    ]\n",
            " [0.     0.     0.     6.6667]]\n",
            "Quantum object: dims = [[2, 2], [2, 2]], shape = (4, 4), type = oper, isherm = True\n",
            "Qobj data =\n",
            "[[0.     0.     0.     0.    ]\n",
            " [0.     0.     0.     0.    ]\n",
            " [0.     0.     0.     0.    ]\n",
            " [0.     0.     0.     6.6667]]\n"
          ]
        }
      ]
    },
    {
      "cell_type": "markdown",
      "source": [
        "To conclude, as expected, the temporally average initial state of $|01\\rangle$ will produce the identical for both constant Deutsch-Jozsa oracles and identical spectrums for both balanced Deutsch-Jozsa oracles"
      ],
      "metadata": {
        "id": "emzgdbFw2tiS"
      }
    },
    {
      "cell_type": "markdown",
      "source": [
        "## Grover's Algorithm"
      ],
      "metadata": {
        "id": "kRxQWNi4IWVD"
      }
    },
    {
      "cell_type": "markdown",
      "source": [
        "Oracles $\\left(Z_f\\right)$ for Grover's Algorithm"
      ],
      "metadata": {
        "id": "Oyy3Q5uWAWOA"
      }
    },
    {
      "cell_type": "markdown",
      "source": [
        "$Z_0 = X^{\\otimes 2} CZ \\ X^{\\otimes 2} \\\\\n",
        "Z_1 = X_1 CZ \\ X_1 \\\\\n",
        "Z_2 = X_2 CZ \\ X_2 \\\\\n",
        "Z_3 = CZ$\n"
      ],
      "metadata": {
        "id": "cYivZ9_h3Tb4"
      }
    },
    {
      "cell_type": "code",
      "source": [
        "def GOracle(state):\n",
        "  if state == '0':\n",
        "    return BitFlip('both')*CZ('composite')*BitFlip('both')\n",
        "  if state == '1':\n",
        "    return BitFlip('H')*CZ('composite')*BitFlip('H')\n",
        "  if state == '2':\n",
        "    return BitFlip('C')*CZ('composite')*BitFlip('C')\n",
        "  if state == '3':\n",
        "    return CZ('composite')\n",
        "  if state == 'Z0':\n",
        "    return BitFlip('both')*CZ('composite')*BitFlip('both')"
      ],
      "metadata": {
        "id": "EeehNfHy_V6T"
      },
      "execution_count": null,
      "outputs": []
    },
    {
      "cell_type": "code",
      "source": [
        "Z0 = GOracle('Z0')\n",
        "print (-np.exp(1j*np.pi/4)*Z0)"
      ],
      "metadata": {
        "colab": {
          "base_uri": "https://localhost:8080/"
        },
        "id": "y1usNDaeiyXP",
        "outputId": "766a186d-3bbe-4ab1-a668-42c524667425"
      },
      "execution_count": null,
      "outputs": [
        {
          "output_type": "stream",
          "name": "stdout",
          "text": [
            "Quantum object: dims = [[2, 2], [2, 2]], shape = (4, 4), type = oper, isherm = True\n",
            "Qobj data =\n",
            "[[ 1.  0.  0.  0.]\n",
            " [ 0. -1.  0.  0.]\n",
            " [ 0.  0. -1.  0.]\n",
            " [ 0.  0.  0. -1.]]\n"
          ]
        }
      ]
    },
    {
      "cell_type": "markdown",
      "source": [
        "### General Sequence to apply Grover's algorithm\n"
      ],
      "metadata": {
        "id": "OxewdyDSIeZk"
      }
    },
    {
      "cell_type": "markdown",
      "source": [
        "$G = H^{\\otimes 2} Z_0 H^{\\otimes 2} Z_fH^{\\otimes 2} \\\\\n",
        "|x_k\\rangle = G|00\\rangle $"
      ],
      "metadata": {
        "id": "42MwKK_iAdZi"
      }
    },
    {
      "cell_type": "code",
      "source": [
        "def Grover(oracle):\n",
        "  Z0 = GOracle('Z0')\n",
        "  if oracle == '0':\n",
        "    return Hadamard('both') * GOracle('Z0') * Hadamard('both') * (GOracle('0')) * Hadamard('both')\n",
        "  if oracle == '1':\n",
        "    return Hadamard('both') * GOracle('Z0') * Hadamard('both') * (GOracle('1')) * Hadamard('both')\n",
        "  if oracle == '2':\n",
        "    return Hadamard('both') * GOracle('Z0') * Hadamard('both') * (GOracle('2')) * Hadamard('both')\n",
        "  if oracle == '3':\n",
        "    return Hadamard('both') * GOracle('Z0') * Hadamard('both') * (GOracle('3')) * Hadamard('both')"
      ],
      "metadata": {
        "id": "4LKAraPZcbpR"
      },
      "execution_count": null,
      "outputs": []
    },
    {
      "cell_type": "markdown",
      "source": [
        "$x = 0, \\\\\n",
        "G|00\\rangle = |00\\rangle $"
      ],
      "metadata": {
        "id": "ytafxmZghSTC"
      }
    },
    {
      "cell_type": "code",
      "source": [
        "print (TempAvg(rho, Grover('0'), ID))"
      ],
      "metadata": {
        "colab": {
          "base_uri": "https://localhost:8080/"
        },
        "id": "WCpPfRZUfa6L",
        "outputId": "d11693c8-0d08-4244-d9e4-e302cd928f24"
      },
      "execution_count": null,
      "outputs": [
        {
          "output_type": "stream",
          "name": "stdout",
          "text": [
            "Quantum object: dims = [[2, 2], [2, 2]], shape = (4, 4), type = oper, isherm = True\n",
            "Qobj data =\n",
            "[[6.6667 0.     0.     0.    ]\n",
            " [0.     0.     0.     0.    ]\n",
            " [0.     0.     0.     0.    ]\n",
            " [0.     0.     0.     0.    ]]\n"
          ]
        }
      ]
    },
    {
      "cell_type": "markdown",
      "source": [
        "$x = 1, \\\\\n",
        "G|00\\rangle = |01\\rangle $"
      ],
      "metadata": {
        "id": "yScx4gT0haGq"
      }
    },
    {
      "cell_type": "code",
      "source": [
        "print (TempAvg(rho, Grover('1'), ID))"
      ],
      "metadata": {
        "colab": {
          "base_uri": "https://localhost:8080/"
        },
        "id": "vfdWn5vvfj6s",
        "outputId": "b43e1515-52e8-4e41-ef0e-2d406d452086"
      },
      "execution_count": null,
      "outputs": [
        {
          "output_type": "stream",
          "name": "stdout",
          "text": [
            "Quantum object: dims = [[2, 2], [2, 2]], shape = (4, 4), type = oper, isherm = True\n",
            "Qobj data =\n",
            "[[0.     0.     0.     0.    ]\n",
            " [0.     6.6667 0.     0.    ]\n",
            " [0.     0.     0.     0.    ]\n",
            " [0.     0.     0.     0.    ]]\n"
          ]
        }
      ]
    },
    {
      "cell_type": "markdown",
      "source": [
        "$x = 2, \\\\\n",
        "G|00\\rangle = |10\\rangle $"
      ],
      "metadata": {
        "id": "FVxDbS_whegd"
      }
    },
    {
      "cell_type": "code",
      "source": [
        "print (TempAvg(rho, Grover('2'), ID))"
      ],
      "metadata": {
        "colab": {
          "base_uri": "https://localhost:8080/"
        },
        "id": "PXgtXIMvfkvj",
        "outputId": "8ea696ca-88f2-4700-b3b5-f52e7271b03e"
      },
      "execution_count": null,
      "outputs": [
        {
          "output_type": "stream",
          "name": "stdout",
          "text": [
            "Quantum object: dims = [[2, 2], [2, 2]], shape = (4, 4), type = oper, isherm = True\n",
            "Qobj data =\n",
            "[[0.     0.     0.     0.    ]\n",
            " [0.     0.     0.     0.    ]\n",
            " [0.     0.     6.6667 0.    ]\n",
            " [0.     0.     0.     0.    ]]\n"
          ]
        }
      ]
    },
    {
      "cell_type": "markdown",
      "source": [
        "$x = 3, \\\\\n",
        "G|00\\rangle = |11\\rangle $"
      ],
      "metadata": {
        "id": "Wuvm2XSChhti"
      }
    },
    {
      "cell_type": "code",
      "source": [
        "print (TempAvg(rho, Grover('3'), ID))"
      ],
      "metadata": {
        "colab": {
          "base_uri": "https://localhost:8080/"
        },
        "id": "Gl38UD0AflDk",
        "outputId": "3abf38b2-7d5e-497a-c5db-7e43dc891c0f"
      },
      "execution_count": null,
      "outputs": [
        {
          "output_type": "stream",
          "name": "stdout",
          "text": [
            "Quantum object: dims = [[2, 2], [2, 2]], shape = (4, 4), type = oper, isherm = True\n",
            "Qobj data =\n",
            "[[0.     0.     0.     0.    ]\n",
            " [0.     0.     0.     0.    ]\n",
            " [0.     0.     0.     0.    ]\n",
            " [0.     0.     0.     6.6667]]\n"
          ]
        }
      ]
    },
    {
      "cell_type": "markdown",
      "source": [
        "To conclude, as expected, the Grover's circuit upon singular application will prepare the marked state $\\left(x_k\\right)$ as required from the temporally averaged initial state of $|00\\rangle$"
      ],
      "metadata": {
        "id": "ycKGEsMz2d6R"
      }
    },
    {
      "cell_type": "code",
      "source": [],
      "metadata": {
        "id": "7CKMxFcGI0XK"
      },
      "execution_count": null,
      "outputs": []
    }
  ]
}